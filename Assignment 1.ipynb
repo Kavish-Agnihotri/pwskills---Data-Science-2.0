{
 "cells": [
  {
   "cell_type": "markdown",
   "id": "a264260e-3144-425b-b6a8-06fb5d878ccf",
   "metadata": {},
   "source": [
    "Q1"
   ]
  },
  {
   "cell_type": "code",
   "execution_count": 25,
   "id": "0d5dfa88-0904-4487-828b-00a4d3ef5ef7",
   "metadata": {},
   "outputs": [],
   "source": [
    "a = \"pwskills\"\n",
    "b = [1,2,3,\"four\"]\n",
    "c = 3.41\n",
    "d = (1,2)"
   ]
  },
  {
   "cell_type": "markdown",
   "id": "3700f9c0-ce60-43f8-b865-fa84eaf53932",
   "metadata": {},
   "source": [
    "Q2\n",
    "\n",
    "1. str\n",
    "2. str\n",
    "3. list\n",
    "4. float"
   ]
  },
  {
   "cell_type": "markdown",
   "id": "e90ef8cc-e521-44a0-b011-1a665564faaf",
   "metadata": {},
   "source": [
    "Q3\n",
    "\n",
    "1. / : Its a arithmatic operator which performs division operation eg. 6/3 = 2\n",
    "2. % : Its a arithmatic operator which performs modulos operation. eg. 4%3 = 1\n",
    "3. // : Its a arithmatic opearator, it performs floor division. eg. 4//3 = 1\n",
    "4. ** : Its a arithmaic operator which performs Exponentiation operation. eg. 2**3 = 8"
   ]
  },
  {
   "cell_type": "markdown",
   "id": "d9c0afa1-949c-409e-910f-a04968718e6d",
   "metadata": {},
   "source": [
    "Q4"
   ]
  },
  {
   "cell_type": "code",
   "execution_count": 26,
   "id": "6dfae586-6f35-4318-8030-5f3151ec24cd",
   "metadata": {},
   "outputs": [
    {
     "name": "stdout",
     "output_type": "stream",
     "text": [
      "1\n",
      "2\n",
      "3\n",
      "4\n",
      "5\n",
      "6.0\n",
      "7.0\n",
      "Eight\n",
      "(9+5j)\n",
      "(10, 11)\n"
     ]
    }
   ],
   "source": [
    "data_list = [1,2,3,4,5,6.0,7.0,\"Eight\",9+5j,(10,11)]\n",
    "\n",
    "for data in data_list:\n",
    "    print(data)"
   ]
  },
  {
   "cell_type": "markdown",
   "id": "686eeb59-2e9d-4c41-9c0d-71d800677d1b",
   "metadata": {},
   "source": [
    "Q5"
   ]
  },
  {
   "cell_type": "code",
   "execution_count": 27,
   "id": "6fc3580c-b539-4137-bed8-042000b3050b",
   "metadata": {},
   "outputs": [
    {
     "name": "stdout",
     "output_type": "stream",
     "text": [
      "A is purely divisible by number B\n",
      "A is purely divisible by number B 4 times\n"
     ]
    }
   ],
   "source": [
    "A = 16\n",
    "B = 2\n",
    "\n",
    "if A%B==0:\n",
    "    print(\"A is purely divisible by number B\")\n",
    "    count = 0\n",
    "    while A%B==0:\n",
    "        A = A/B\n",
    "        count = count+1\n",
    "    print(\"A is purely divisible by number B\",count,\"times\")\n",
    "else:\n",
    "    print(\"A is not purely divisible by number B\")\n",
    "    \n",
    "    "
   ]
  },
  {
   "cell_type": "markdown",
   "id": "15242d82-720f-4928-9e9d-68d6cd4d4bfa",
   "metadata": {},
   "source": [
    "Q6"
   ]
  },
  {
   "cell_type": "code",
   "execution_count": 28,
   "id": "d173793c-3738-4078-9563-720470492b8b",
   "metadata": {},
   "outputs": [
    {
     "name": "stdout",
     "output_type": "stream",
     "text": [
      "0 is divisible by 3\n",
      "1 is not divisible by 3\n",
      "2 is not divisible by 3\n",
      "3 is divisible by 3\n",
      "4 is not divisible by 3\n",
      "5 is not divisible by 3\n",
      "6 is divisible by 3\n",
      "7 is not divisible by 3\n",
      "8 is not divisible by 3\n",
      "9 is divisible by 3\n",
      "10 is not divisible by 3\n",
      "11 is not divisible by 3\n",
      "12 is divisible by 3\n",
      "13 is not divisible by 3\n",
      "14 is not divisible by 3\n",
      "15 is divisible by 3\n",
      "16 is not divisible by 3\n",
      "17 is not divisible by 3\n",
      "18 is divisible by 3\n",
      "19 is not divisible by 3\n",
      "20 is not divisible by 3\n",
      "21 is divisible by 3\n",
      "22 is not divisible by 3\n",
      "23 is not divisible by 3\n",
      "24 is divisible by 3\n"
     ]
    }
   ],
   "source": [
    "dummy_data = list(range(25))\n",
    "\n",
    "for data in dummy_data:\n",
    "    if(data%3==0):\n",
    "        print(data,\"is divisible by 3\")\n",
    "    else:\n",
    "        print(data,\"is not divisible by 3\")"
   ]
  },
  {
   "cell_type": "markdown",
   "id": "76b372ba-73af-4311-b263-9b2cd1877a12",
   "metadata": {},
   "source": [
    "Q7\n",
    "\n",
    "Mutable datatype can be modified/updated after initial assignment eg. list while Immutable datatypes cannot be modified/updated after assignment eg. string "
   ]
  },
  {
   "cell_type": "code",
   "execution_count": null,
   "id": "8f43a465-cc6d-492f-8714-6d85362e187c",
   "metadata": {},
   "outputs": [],
   "source": []
  }
 ],
 "metadata": {
  "kernelspec": {
   "display_name": "Python 3 (ipykernel)",
   "language": "python",
   "name": "python3"
  },
  "language_info": {
   "codemirror_mode": {
    "name": "ipython",
    "version": 3
   },
   "file_extension": ".py",
   "mimetype": "text/x-python",
   "name": "python",
   "nbconvert_exporter": "python",
   "pygments_lexer": "ipython3",
   "version": "3.10.8"
  }
 },
 "nbformat": 4,
 "nbformat_minor": 5
}
